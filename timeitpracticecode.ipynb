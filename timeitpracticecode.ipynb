{
  "nbformat": 4,
  "nbformat_minor": 0,
  "metadata": {
    "colab": {
      "name": "timeitpracticecode.ipynb",
      "provenance": [],
      "authorship_tag": "ABX9TyPxxJDcYZWEC6paZOgu6Z5b",
      "include_colab_link": true
    },
    "kernelspec": {
      "name": "python3",
      "display_name": "Python 3"
    },
    "language_info": {
      "name": "python"
    }
  },
  "cells": [
    {
      "cell_type": "markdown",
      "metadata": {
        "id": "view-in-github",
        "colab_type": "text"
      },
      "source": [
        "<a href=\"https://colab.research.google.com/github/Shaunae16/Shaunae16.github.io/blob/A590-Notes/timeitpracticecode.ipynb\" target=\"_parent\"><img src=\"https://colab.research.google.com/assets/colab-badge.svg\" alt=\"Open In Colab\"/></a>"
      ]
    },
    {
      "cell_type": "code",
      "metadata": {
        "id": "oMaZLMOR1lp3"
      },
      "source": [
        "import random \n",
        "low, high, size = 0, 1000000, 1000000\n",
        "values = random.sample(range(low, high), size)\n",
        "#values"
      ],
      "execution_count": 10,
      "outputs": []
    },
    {
      "cell_type": "code",
      "metadata": {
        "colab": {
          "base_uri": "https://localhost:8080/"
        },
        "id": "Gitg9M6U1-fb",
        "outputId": "3aa03b1a-b201-43c6-a941-622186d772c6"
      },
      "source": [
        "%%timeit\n",
        "x = 0\n",
        "for i in range(len(values)):\n",
        "  if 0 < values[i] < 100:\n",
        "    x += 1\n",
        "        #print(f\"{values[i]} in range\")\n",
        "#print(f\"{x} values in range\")\n",
        "\n",
        "#if x == 99:\n",
        "#print(\"Yes\")\n",
        "#else:\n",
        "#print(\"No\")"
      ],
      "execution_count": 11,
      "outputs": [
        {
          "output_type": "stream",
          "name": "stdout",
          "text": [
            "1 loop, best of 5: 236 ms per loop\n"
          ]
        }
      ]
    },
    {
      "cell_type": "code",
      "metadata": {
        "colab": {
          "base_uri": "https://localhost:8080/"
        },
        "id": "LScNWb9l2AAw",
        "outputId": "7a72e400-53cc-4768-a248-2aa814c59add"
      },
      "source": [
        "%%timeit\n",
        "unique = set() # Constructor\n",
        "for v in values:\n",
        "    if 0 < v < 100:\n",
        "        unique.add(v) \n",
        "answer = \"Not all coverd\" if len(unique) < 99 else \"All covered\""
      ],
      "execution_count": 12,
      "outputs": [
        {
          "output_type": "stream",
          "name": "stdout",
          "text": [
            "10 loops, best of 5: 186 ms per loop\n"
          ]
        }
      ]
    },
    {
      "cell_type": "code",
      "metadata": {
        "id": "owv9fNEH1_3m"
      },
      "source": [
        ""
      ],
      "execution_count": null,
      "outputs": []
    }
  ]
}